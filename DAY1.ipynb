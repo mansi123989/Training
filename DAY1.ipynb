{
 "cells": [
  {
   "cell_type": "markdown",
   "id": "d1485720-07ff-44ac-b517-5c967fe1fc31",
   "metadata": {},
   "source": [
    "# DATA SCIENCE : INTRODUCTION"
   ]
  },
  {
   "cell_type": "markdown",
   "id": "82858a7a-28b4-450f-adb9-4868218b5a45",
   "metadata": {},
   "source": [
    "Data science is a field that combines domain expertise, programming skills, and statistical knowledge to extract meaningful insights and knowledge from data. It's about transforming raw data into actionable information that can drive better decision-making."
   ]
  },
  {
   "cell_type": "markdown",
   "id": "b1c69f07-0cf8-4f8f-b904-5094915faec7",
   "metadata": {},
   "source": [
    " **APPLICATION**:"
   ]
  },
  {
   "cell_type": "markdown",
   "id": "c758c696-bb72-4738-bb75-84b1f54cb59b",
   "metadata": {},
   "source": [
    "* Healthcare: Analyzing patient data to predict disease outbreaks, personalize treatment plans, and improve patient outcomes\n",
    "*  Finance: Detecting fraud, assessing risk, and developing personalized financial products\n",
    "*  E-commerce: Personalizing product recommendations, optimizing pricing strategies, and improving inventory management\n",
    "*  Technology:Developing and improving AI algorithms, optimizing search engine results, and enhancing user interfaces."
   ]
  },
  {
   "cell_type": "markdown",
   "id": "f4e82126-86dd-4a66-9946-821ec5af3df9",
   "metadata": {},
   "source": [
    "**WORKFLOW**"
   ]
  },
  {
   "cell_type": "markdown",
   "id": "afc1f5cc-baba-4215-bba7-ae023e7997d3",
   "metadata": {},
   "source": [
    "\n",
    "A typical data science workflow involves several stages, including:\n",
    "\n",
    "**1. Problem Definition:**\n",
    "Clearly defining the problem that needs to be solved and formulating relevant questions. \n",
    "\n",
    "**2. Data Collection:**\n",
    "Gathering data from various sources, both structured and unstructured. \n",
    "\n",
    "**3. Data Cleaning and Preparation:**\n",
    "Cleaning, transforming, and preparing the data for analysis by handling missing values, outliers, and inconsistencies. \n",
    "\n",
    "**4. Exploratory Data Analysis (EDA):**\n",
    "Exploring the data to understand its characteristics, identify patterns, and generate hypotheses. \n",
    "\n",
    "**5. Model Building:**\n",
    "Selecting and training appropriate machine learning models to address the defined problem. \n",
    "\n",
    "**6. Model Evaluation:**\n",
    "Evaluating the performance of the trained model using appropriate metrics and techniques. \n",
    "\n",
    "**7. Model Deployment:**\n",
    "Deploying the chosen model to a production environment and integrating it into a system or application. \n",
    "\n"
   ]
  },
  {
   "cell_type": "markdown",
   "id": "f1a3f0ab-7624-4b47-ba67-12a0a9a3f1c4",
   "metadata": {},
   "source": [
    "**SKILLS REQUIRED :**"
   ]
  },
  {
   "cell_type": "markdown",
   "id": "831d44b8-4c85-43ec-9bcb-f0ffc19a9cc0",
   "metadata": {},
   "source": [
    "**1.Programming:**\n",
    "Proficiency in languages like Python, R, and SQL is essential for data manipulation, analysis, and model building. \n",
    "    \n",
    "**2.Mathematics and Statistics:**\n",
    "Strong understanding of statistical concepts, probability, linear algebra, and calculus is crucial for model development and interpretation. \n",
    "\n",
    "**3.Domain Expertise:**\n",
    "Understanding the specific industry or domain where the data science project is being conducted\n",
    "\n",
    "**4.Phython library:**\n",
    "learn to use numpy , pandas for data manipulation and saeborn for data visulization."
   ]
  },
  {
   "cell_type": "markdown",
   "id": "6f782a47-a906-4107-a107-10a31f9b6639",
   "metadata": {},
   "source": [
    "**MUTABLE / IMMUTABLE**"
   ]
  },
  {
   "cell_type": "code",
   "execution_count": null,
   "id": "415aff06-3253-4fc3-b955-fa265715a1b0",
   "metadata": {},
   "outputs": [],
   "source": []
  }
 ],
 "metadata": {
  "kernelspec": {
   "display_name": "Python [conda env:base] *",
   "language": "python",
   "name": "conda-base-py"
  },
  "language_info": {
   "codemirror_mode": {
    "name": "ipython",
    "version": 3
   },
   "file_extension": ".py",
   "mimetype": "text/x-python",
   "name": "python",
   "nbconvert_exporter": "python",
   "pygments_lexer": "ipython3",
   "version": "3.12.7"
  }
 },
 "nbformat": 4,
 "nbformat_minor": 5
}
