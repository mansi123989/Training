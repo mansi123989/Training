{
 "cells": [
  {
   "cell_type": "markdown",
   "id": "783c511f-0e46-4eb2-80bf-7b898f3bd897",
   "metadata": {},
   "source": [
    "**LIST**"
   ]
  },
  {
   "cell_type": "code",
   "execution_count": 33,
   "id": "74fa5e84-4f32-407b-946d-5258598af742",
   "metadata": {},
   "outputs": [
    {
     "data": {
      "text/plain": [
       "[1, 2, 3, 4, 5, 6, 7, 8, 9]"
      ]
     },
     "execution_count": 33,
     "metadata": {},
     "output_type": "execute_result"
    }
   ],
   "source": [
    "# range(start,stop,step size)\n",
    "list(range(1,10))"
   ]
  },
  {
   "cell_type": "code",
   "execution_count": 35,
   "id": "ddd0a04f-6570-4fdb-8536-7a9e06487563",
   "metadata": {},
   "outputs": [
    {
     "data": {
      "text/plain": [
       "[10, 9, 8, 7, 6, 5, 4, 3, 2, 1]"
      ]
     },
     "execution_count": 35,
     "metadata": {},
     "output_type": "execute_result"
    }
   ],
   "source": [
    "list(range(10,0,-1))"
   ]
  },
  {
   "cell_type": "code",
   "execution_count": 36,
   "id": "cc7bc79a-67d1-4076-9bce-c923c928c36a",
   "metadata": {},
   "outputs": [
    {
     "name": "stdout",
     "output_type": "stream",
     "text": [
      "m\n",
      "a\n",
      "n\n",
      "s\n",
      "i\n"
     ]
    }
   ],
   "source": [
    "for i in \"mansi\":\n",
    "    print(i)"
   ]
  },
  {
   "cell_type": "markdown",
   "id": "853e9d80-a7f5-49e2-a816-a2dc821ba0e1",
   "metadata": {},
   "source": [
    "**some in-built function:**"
   ]
  },
  {
   "cell_type": "code",
   "execution_count": 37,
   "id": "93ebd82d-38d8-40fe-ab41-c35a520bbdb4",
   "metadata": {},
   "outputs": [
    {
     "name": "stdout",
     "output_type": "stream",
     "text": [
      "5\n",
      "5.0\n",
      "16\n",
      "3.46\n",
      "0o43\n",
      "0b100011\n"
     ]
    }
   ],
   "source": [
    "num = 5.0\n",
    "\n",
    "#typecasting\n",
    "print(int(num))\n",
    "\n",
    "#absolute value\n",
    "print(abs(num))\n",
    "\n",
    "#power \n",
    "print(pow(2,4))\n",
    "\n",
    "#round off floating value\n",
    "num = 3.4567\n",
    "print(round(num,2))\n",
    "\n",
    "print(oct(35))\n",
    "print(bin(35))\n"
   ]
  },
  {
   "cell_type": "markdown",
   "id": "71bfa894-06b8-4292-819e-23bed8815906",
   "metadata": {},
   "source": [
    "**object slicing**"
   ]
  },
  {
   "cell_type": "code",
   "execution_count": 42,
   "id": "cfb1c84b-6240-4a4f-a7ff-cc42c3b04f80",
   "metadata": {},
   "outputs": [
    {
     "name": "stdout",
     "output_type": "stream",
     "text": [
      "[23, 56, 44]\n",
      "0\n",
      "[3, 4, 5]\n"
     ]
    }
   ],
   "source": [
    "#start:stop:stepsize\n",
    "list = [23,23,2,56,678,44,3,0]\n",
    "print(list[1:7:2])\n",
    "print(list[-1])#- indicates indexing from last element\n",
    "\n",
    "#edit with slicing\n",
    "list[1:4] = 3,4,5\n",
    "print(list[1:4])"
   ]
  },
  {
   "cell_type": "markdown",
   "id": "3ed007f8-b559-4996-9cbe-693e2e33d3b2",
   "metadata": {},
   "source": [
    "**operation on list:**"
   ]
  },
  {
   "cell_type": "code",
   "execution_count": 45,
   "id": "92fb07bd-6d3d-47be-97c4-42538c8523a4",
   "metadata": {},
   "outputs": [],
   "source": [
    "#insert\n",
    "list = [23,23,2,56,678,44,3,0]\n",
    "list.append(6)# add element at end of list\n",
    "list.insert(3,45)#(index,element)\n",
    "\n",
    "#delete\n",
    "list.remove(23)#delete give element\n",
    "list.pop(5)#delete element at given index\n",
    "list.clear()#delete all element from list\n",
    "del list#delete list from memory\n"
   ]
  },
  {
   "cell_type": "markdown",
   "id": "8c770a9d-22cd-4bd6-86ea-39965a15ae9e",
   "metadata": {},
   "source": [
    "**list comprehension**"
   ]
  },
  {
   "cell_type": "code",
   "execution_count": 62,
   "id": "31f989b2-ce23-4440-83b5-746babb9e703",
   "metadata": {},
   "outputs": [
    {
     "name": "stdout",
     "output_type": "stream",
     "text": [
      "[2, 4, 6, 8, 10, 12, 14, 16, 18]\n"
     ]
    }
   ],
   "source": [
    "#it is a for loop with condition \n",
    "list = [x for x in range(1,20) if x%2==0]\n",
    "print(list)"
   ]
  },
  {
   "cell_type": "code",
   "execution_count": null,
   "id": "8c2ead24-5b92-484d-aed7-618793bb92c1",
   "metadata": {},
   "outputs": [],
   "source": []
  },
  {
   "cell_type": "markdown",
   "id": "ad5b811d-dfe8-49ea-93e5-1647dd5bed97",
   "metadata": {},
   "source": [
    "**find sum of digits**"
   ]
  },
  {
   "cell_type": "code",
   "execution_count": 5,
   "id": "ff0a8887-a962-4fa6-87c0-8cf5979c7f4e",
   "metadata": {},
   "outputs": [
    {
     "name": "stdout",
     "output_type": "stream",
     "text": [
      "14\n"
     ]
    }
   ],
   "source": [
    "num = 2345\n",
    "sum=0\n",
    "for i in str(num):\n",
    "    sum+=int(i)\n",
    "print(sum)    "
   ]
  },
  {
   "cell_type": "markdown",
   "id": "2ccb9213-8476-42fb-ae8b-325587da8626",
   "metadata": {},
   "source": [
    " **find second largest element of list**"
   ]
  },
  {
   "cell_type": "code",
   "execution_count": 6,
   "id": "5d1caa99-956d-44a1-9478-616b76b70990",
   "metadata": {},
   "outputs": [
    {
     "name": "stdout",
     "output_type": "stream",
     "text": [
      "second largest element:   23\n"
     ]
    },
    {
     "data": {
      "text/plain": [
       "[23, 4, 6, 7, 45, 3, 4, 6, 12]"
      ]
     },
     "execution_count": 6,
     "metadata": {},
     "output_type": "execute_result"
    }
   ],
   "source": [
    "list = [23,4,6,7,45,3,4,6,12]\n",
    "maximum = max(list)\n",
    "i = list.index(maximum)\n",
    "list.remove(maximum)\n",
    "secmax = max(list)\n",
    "print(\"second largest element:  \" , secmax)\n",
    "list.insert(i ,maximum)\n",
    "list"
   ]
  },
  {
   "cell_type": "markdown",
   "id": "af74627d-d9c1-4053-80a1-d2e65cc5056d",
   "metadata": {},
   "source": [
    "**find all index at element of list appear in list**"
   ]
  },
  {
   "cell_type": "code",
   "execution_count": 7,
   "id": "4c47f02b-a37a-4272-b48a-746157c01cda",
   "metadata": {},
   "outputs": [
    {
     "name": "stdout",
     "output_type": "stream",
     "text": [
      "  23 appears at index : [0, 1, 2]\n",
      "  0 appears at index : [3]\n"
     ]
    }
   ],
   "source": [
    "list = [23,23,23,0]\n",
    "uni = []\n",
    "for i in list:\n",
    "    if i not in uni:\n",
    "        uni.append(i)\n",
    "ind = []        \n",
    "for i in uni:\n",
    "    for j in range(0 , len(list)):\n",
    "        if i == list[j]:\n",
    "          ind.append(j)\n",
    "    print(\" \",i ,\"appears at index :\",ind)\n",
    "    ind.clear()"
   ]
  },
  {
   "cell_type": "markdown",
   "id": "47c2fe8f-0da5-407c-9a76-76111f79b26d",
   "metadata": {
    "jp-MarkdownHeadingCollapsed": true
   },
   "source": [
    "**print a pattern**"
   ]
  },
  {
   "cell_type": "code",
   "execution_count": 8,
   "id": "93a39c5b-384b-4478-b1b1-076ee17386c2",
   "metadata": {},
   "outputs": [
    {
     "ename": "KeyboardInterrupt",
     "evalue": "Interrupted by user",
     "output_type": "error",
     "traceback": [
      "\u001b[1;31m---------------------------------------------------------------------------\u001b[0m",
      "\u001b[1;31mKeyboardInterrupt\u001b[0m                         Traceback (most recent call last)",
      "Cell \u001b[1;32mIn[8], line 1\u001b[0m\n\u001b[1;32m----> 1\u001b[0m num \u001b[38;5;241m=\u001b[39m \u001b[38;5;28mint\u001b[39m(\u001b[38;5;28minput\u001b[39m(\u001b[38;5;124m\"\u001b[39m\u001b[38;5;124menter number of rows\u001b[39m\u001b[38;5;124m\"\u001b[39m))\n\u001b[0;32m      2\u001b[0m \u001b[38;5;28;01mfor\u001b[39;00m i \u001b[38;5;129;01min\u001b[39;00m \u001b[38;5;28mrange\u001b[39m( \u001b[38;5;241m1\u001b[39m , num\u001b[38;5;241m+\u001b[39m\u001b[38;5;241m1\u001b[39m):\n\u001b[0;32m      3\u001b[0m   \u001b[38;5;28;01mfor\u001b[39;00m j \u001b[38;5;129;01min\u001b[39;00m \u001b[38;5;28mrange\u001b[39m (\u001b[38;5;241m0\u001b[39m , i):\n",
      "File \u001b[1;32m~\\anaconda3\\Lib\\site-packages\\ipykernel\\kernelbase.py:1262\u001b[0m, in \u001b[0;36mKernel.raw_input\u001b[1;34m(self, prompt)\u001b[0m\n\u001b[0;32m   1260\u001b[0m     msg \u001b[38;5;241m=\u001b[39m \u001b[38;5;124m\"\u001b[39m\u001b[38;5;124mraw_input was called, but this frontend does not support input requests.\u001b[39m\u001b[38;5;124m\"\u001b[39m\n\u001b[0;32m   1261\u001b[0m     \u001b[38;5;28;01mraise\u001b[39;00m StdinNotImplementedError(msg)\n\u001b[1;32m-> 1262\u001b[0m \u001b[38;5;28;01mreturn\u001b[39;00m \u001b[38;5;28mself\u001b[39m\u001b[38;5;241m.\u001b[39m_input_request(\n\u001b[0;32m   1263\u001b[0m     \u001b[38;5;28mstr\u001b[39m(prompt),\n\u001b[0;32m   1264\u001b[0m     \u001b[38;5;28mself\u001b[39m\u001b[38;5;241m.\u001b[39m_parent_ident[\u001b[38;5;124m\"\u001b[39m\u001b[38;5;124mshell\u001b[39m\u001b[38;5;124m\"\u001b[39m],\n\u001b[0;32m   1265\u001b[0m     \u001b[38;5;28mself\u001b[39m\u001b[38;5;241m.\u001b[39mget_parent(\u001b[38;5;124m\"\u001b[39m\u001b[38;5;124mshell\u001b[39m\u001b[38;5;124m\"\u001b[39m),\n\u001b[0;32m   1266\u001b[0m     password\u001b[38;5;241m=\u001b[39m\u001b[38;5;28;01mFalse\u001b[39;00m,\n\u001b[0;32m   1267\u001b[0m )\n",
      "File \u001b[1;32m~\\anaconda3\\Lib\\site-packages\\ipykernel\\kernelbase.py:1305\u001b[0m, in \u001b[0;36mKernel._input_request\u001b[1;34m(self, prompt, ident, parent, password)\u001b[0m\n\u001b[0;32m   1302\u001b[0m \u001b[38;5;28;01mexcept\u001b[39;00m \u001b[38;5;167;01mKeyboardInterrupt\u001b[39;00m:\n\u001b[0;32m   1303\u001b[0m     \u001b[38;5;66;03m# re-raise KeyboardInterrupt, to truncate traceback\u001b[39;00m\n\u001b[0;32m   1304\u001b[0m     msg \u001b[38;5;241m=\u001b[39m \u001b[38;5;124m\"\u001b[39m\u001b[38;5;124mInterrupted by user\u001b[39m\u001b[38;5;124m\"\u001b[39m\n\u001b[1;32m-> 1305\u001b[0m     \u001b[38;5;28;01mraise\u001b[39;00m \u001b[38;5;167;01mKeyboardInterrupt\u001b[39;00m(msg) \u001b[38;5;28;01mfrom\u001b[39;00m \u001b[38;5;28;01mNone\u001b[39;00m\n\u001b[0;32m   1306\u001b[0m \u001b[38;5;28;01mexcept\u001b[39;00m \u001b[38;5;167;01mException\u001b[39;00m:\n\u001b[0;32m   1307\u001b[0m     \u001b[38;5;28mself\u001b[39m\u001b[38;5;241m.\u001b[39mlog\u001b[38;5;241m.\u001b[39mwarning(\u001b[38;5;124m\"\u001b[39m\u001b[38;5;124mInvalid Message:\u001b[39m\u001b[38;5;124m\"\u001b[39m, exc_info\u001b[38;5;241m=\u001b[39m\u001b[38;5;28;01mTrue\u001b[39;00m)\n",
      "\u001b[1;31mKeyboardInterrupt\u001b[0m: Interrupted by user"
     ]
    }
   ],
   "source": [
    "num = int(input(\"enter number of rows\"))\n",
    "for i in range( 1 , num+1):\n",
    "  for j in range (0 , i):\n",
    "    print(j+1 , end=\" \")\n",
    "  print(\"\\n\")\n"
   ]
  },
  {
   "cell_type": "code",
   "execution_count": null,
   "id": "13cb5d3e-d394-4f4b-82d7-55bc41240da9",
   "metadata": {},
   "outputs": [],
   "source": []
  },
  {
   "cell_type": "code",
   "execution_count": null,
   "id": "7ab357c0-7de6-4b65-b8de-6acfd48f07a5",
   "metadata": {},
   "outputs": [],
   "source": []
  },
  {
   "cell_type": "code",
   "execution_count": null,
   "id": "35f90d82-4391-4546-8ae5-4991218a3297",
   "metadata": {},
   "outputs": [],
   "source": []
  }
 ],
 "metadata": {
  "kernelspec": {
   "display_name": "Python [conda env:base] *",
   "language": "python",
   "name": "conda-base-py"
  },
  "language_info": {
   "codemirror_mode": {
    "name": "ipython",
    "version": 3
   },
   "file_extension": ".py",
   "mimetype": "text/x-python",
   "name": "python",
   "nbconvert_exporter": "python",
   "pygments_lexer": "ipython3",
   "version": "3.12.7"
  }
 },
 "nbformat": 4,
 "nbformat_minor": 5
}
