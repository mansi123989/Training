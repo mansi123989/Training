{
 "cells": [
  {
   "cell_type": "markdown",
   "id": "8d5f9673-db74-4a2c-859b-0d1fd4e5dffb",
   "metadata": {},
   "source": [
    "**Regular expression**"
   ]
  },
  {
   "cell_type": "code",
   "execution_count": 2,
   "id": "461f5c6b-15cb-435f-a69b-75681dbfb570",
   "metadata": {},
   "outputs": [
    {
     "data": {
      "text/plain": [
       "['2302']"
      ]
     },
     "execution_count": 2,
     "metadata": {},
     "output_type": "execute_result"
    }
   ],
   "source": [
    "import re \n",
    "series = 'iammansi2302610'\n",
    "pattern = re.compile(r'[0-9]{4}')\n",
    "result = re.findall(pattern , series)\n",
    "result"
   ]
  },
  {
   "cell_type": "code",
   "execution_count": 10,
   "id": "7763bec2-11e8-466a-b222-00521575fd16",
   "metadata": {},
   "outputs": [],
   "source": [
    "series = 'iammansi2302610'\n",
    "pattern = re.compile(r'([0-9]{2})')\n",
    "result = re.match(pattern , series)\n",
    "result"
   ]
  },
  {
   "cell_type": "markdown",
   "id": "40c3ee2f-1bca-4606-81e3-421322f89fc8",
   "metadata": {},
   "source": [
    "**find all date in june months**"
   ]
  },
  {
   "cell_type": "code",
   "execution_count": 11,
   "id": "46042f8b-ba90-465d-bdf3-9ba0b23c4c4c",
   "metadata": {},
   "outputs": [
    {
     "data": {
      "text/plain": [
       "['12-june-2020', '12-june-2020']"
      ]
     },
     "execution_count": 11,
     "metadata": {},
     "output_type": "execute_result"
    }
   ],
   "source": [
    "date =  '23-may-2020 , 23-05-2025 , 12-june-2020 , 12-june-2020'\n",
    "pattern = re.compile(r'\\d{2}[/-]june[-/][0-9]{4}')\n",
    "result = re.findall(pattern , date)\n",
    "result"
   ]
  },
  {
   "cell_type": "code",
   "execution_count": 12,
   "id": "bca70271-b742-409b-b0bb-4cb0e256e48b",
   "metadata": {},
   "outputs": [],
   "source": [
    "series =  'bag name Ball tab-le CHAIR Pen glue red green blue zig-zag zoo aim all egg eagle'"
   ]
  },
  {
   "cell_type": "markdown",
   "id": "efe60d5d-815a-4c79-9eaf-829682e11069",
   "metadata": {},
   "source": [
    "**find all word start with b**"
   ]
  },
  {
   "cell_type": "code",
   "execution_count": 15,
   "id": "6162d1cd-9961-4e3a-9cde-d21d3d4d114a",
   "metadata": {},
   "outputs": [
    {
     "data": {
      "text/plain": [
       "['bag']"
      ]
     },
     "execution_count": 15,
     "metadata": {},
     "output_type": "execute_result"
    }
   ],
   "source": [
    "pattern = re.compile(r'^b[a-z]+')\n",
    "result = re.findall(pattern , series)\n",
    "result"
   ]
  },
  {
   "cell_type": "markdown",
   "id": "edb324f1-97e7-4038-8d4c-353ad853cd2d",
   "metadata": {},
   "source": [
    "**print all word start wuth capital letter**"
   ]
  },
  {
   "cell_type": "code",
   "execution_count": 14,
   "id": "888b118f-7974-43e7-8773-915ee2e30d00",
   "metadata": {},
   "outputs": [
    {
     "data": {
      "text/plain": [
       "['Ball', 'Pen']"
      ]
     },
     "execution_count": 14,
     "metadata": {},
     "output_type": "execute_result"
    }
   ],
   "source": [
    "pattern = re.compile(r'[A-Z][a-z]+')\n",
    "result = re.findall(pattern , series)\n",
    "result"
   ]
  },
  {
   "cell_type": "markdown",
   "id": "78b6c840-e4c0-4607-bc00-e7a17e2cc07e",
   "metadata": {},
   "source": [
    "**find word with -**"
   ]
  },
  {
   "cell_type": "code",
   "execution_count": 16,
   "id": "9d93a6ab-75ff-46d1-88f4-d71463009b15",
   "metadata": {},
   "outputs": [
    {
     "data": {
      "text/plain": [
       "['tab-le', 'zig-zag']"
      ]
     },
     "execution_count": 16,
     "metadata": {},
     "output_type": "execute_result"
    }
   ],
   "source": [
    "pattern = re.compile(r'[a-z]+?[-][a-z]+')\n",
    "result = re.findall(pattern ,series)\n",
    "result"
   ]
  },
  {
   "cell_type": "markdown",
   "id": "678414fc-3b6e-458f-bdb2-a95e7413bc98",
   "metadata": {},
   "source": [
    "**find last word**"
   ]
  },
  {
   "cell_type": "code",
   "execution_count": 20,
   "id": "d472e8c0-9b15-49b6-b3aa-e709913d4fff",
   "metadata": {},
   "outputs": [
    {
     "data": {
      "text/plain": [
       "['eagle']"
      ]
     },
     "execution_count": 20,
     "metadata": {},
     "output_type": "execute_result"
    }
   ],
   "source": [
    "pattern = re.compile(r'\\w+$')\n",
    "result = re.findall(pattern , series)\n",
    "result"
   ]
  },
  {
   "cell_type": "markdown",
   "id": "a12a9c25-770f-48e8-9c8c-7e2587201545",
   "metadata": {},
   "source": [
    "**find first word**"
   ]
  },
  {
   "cell_type": "code",
   "execution_count": 21,
   "id": "54395982-1784-4d11-af2c-f3e90926dd0a",
   "metadata": {},
   "outputs": [
    {
     "data": {
      "text/plain": [
       "['bag']"
      ]
     },
     "execution_count": 21,
     "metadata": {},
     "output_type": "execute_result"
    }
   ],
   "source": [
    "pattern = re.compile(r'^\\w+')\n",
    "result = re.findall(pattern ,series)\n",
    "result"
   ]
  },
  {
   "cell_type": "markdown",
   "id": "edcd9aff-02b7-425b-8ffb-3ffa4653c95a",
   "metadata": {},
   "source": [
    "**find all word have letter z**"
   ]
  },
  {
   "cell_type": "code",
   "execution_count": 22,
   "id": "333656fa-cd9b-422d-94c9-8132a3db99df",
   "metadata": {},
   "outputs": [
    {
     "data": {
      "text/plain": [
       "['zig', 'zag', 'zoo']"
      ]
     },
     "execution_count": 22,
     "metadata": {},
     "output_type": "execute_result"
    }
   ],
   "source": [
    "pattern = re.compile(r'[a-z]*[z][a-z]*')\n",
    "result = re.findall(pattern ,series)\n",
    "result"
   ]
  },
  {
   "cell_type": "markdown",
   "id": "ecceaf6a-b2f3-460b-8589-d14cdc528481",
   "metadata": {},
   "source": [
    "**find word have only capital letter**"
   ]
  },
  {
   "cell_type": "code",
   "execution_count": 23,
   "id": "017b8b1d-4010-4c41-bed6-dacb898a8317",
   "metadata": {},
   "outputs": [
    {
     "data": {
      "text/plain": [
       "['CHAIR']"
      ]
     },
     "execution_count": 23,
     "metadata": {},
     "output_type": "execute_result"
    }
   ],
   "source": [
    "pattern = re.compile(r'[A-Z]+[A-Z]+')\n",
    "result = re.findall(pattern ,series)\n",
    "result"
   ]
  },
  {
   "cell_type": "markdown",
   "id": "73f28d4d-797e-4da1-ad1a-1171612337c7",
   "metadata": {},
   "source": [
    "**find all only small letter word**"
   ]
  },
  {
   "cell_type": "code",
   "execution_count": 25,
   "id": "e9a32840-c2b1-4b26-8af2-83c0dc5d2671",
   "metadata": {},
   "outputs": [
    {
     "data": {
      "text/plain": [
       "['bag',\n",
       " 'name',\n",
       " 'all',\n",
       " 'tab',\n",
       " 'le',\n",
       " 'en',\n",
       " 'glue',\n",
       " 'red',\n",
       " 'green',\n",
       " 'blue',\n",
       " 'zig',\n",
       " 'zag',\n",
       " 'zoo',\n",
       " 'aim',\n",
       " 'all',\n",
       " 'egg',\n",
       " 'eagle']"
      ]
     },
     "execution_count": 25,
     "metadata": {},
     "output_type": "execute_result"
    }
   ],
   "source": [
    "pattern = re.compile(r'[a-z]+[a-z]+')\n",
    "result = re.findall(pattern ,series)\n",
    "result"
   ]
  },
  {
   "cell_type": "markdown",
   "id": "23824d34-f798-4508-8fc4-2d4c9935e629",
   "metadata": {},
   "source": [
    "**all word start with a**"
   ]
  },
  {
   "cell_type": "code",
   "execution_count": 27,
   "id": "1ca83957-9313-49ce-a115-a2a026ba7f67",
   "metadata": {},
   "outputs": [
    {
     "data": {
      "text/plain": [
       "[]"
      ]
     },
     "execution_count": 27,
     "metadata": {},
     "output_type": "execute_result"
    }
   ],
   "source": [
    "pattern = re.compile(r'^a[a-z]+')\n",
    "result = re.findall(pattern ,series)\n",
    "result"
   ]
  },
  {
   "cell_type": "code",
   "execution_count": null,
   "id": "9859a99a-246d-40af-b886-e3cd53c10c8b",
   "metadata": {},
   "outputs": [],
   "source": []
  },
  {
   "cell_type": "code",
   "execution_count": null,
   "id": "1f3f4466-ea77-423a-af4d-009026573d1a",
   "metadata": {},
   "outputs": [],
   "source": []
  }
 ],
 "metadata": {
  "kernelspec": {
   "display_name": "Python [conda env:base] *",
   "language": "python",
   "name": "conda-base-py"
  },
  "language_info": {
   "codemirror_mode": {
    "name": "ipython",
    "version": 3
   },
   "file_extension": ".py",
   "mimetype": "text/x-python",
   "name": "python",
   "nbconvert_exporter": "python",
   "pygments_lexer": "ipython3",
   "version": "3.12.7"
  }
 },
 "nbformat": 4,
 "nbformat_minor": 5
}
