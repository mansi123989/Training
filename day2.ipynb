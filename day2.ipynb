{
 "cells": [
  {
   "cell_type": "code",
   "execution_count": 2,
   "id": "74fa5e84-4f32-407b-946d-5258598af742",
   "metadata": {},
   "outputs": [
    {
     "data": {
      "text/plain": [
       "[1, 2, 3, 4, 5, 6, 7, 8, 9]"
      ]
     },
     "execution_count": 2,
     "metadata": {},
     "output_type": "execute_result"
    }
   ],
   "source": [
    "list(range(1,10))"
   ]
  },
  {
   "cell_type": "code",
   "execution_count": 3,
   "id": "ddd0a04f-6570-4fdb-8536-7a9e06487563",
   "metadata": {},
   "outputs": [
    {
     "data": {
      "text/plain": [
       "[10, 9, 8, 7, 6, 5, 4, 3, 2, 1]"
      ]
     },
     "execution_count": 3,
     "metadata": {},
     "output_type": "execute_result"
    }
   ],
   "source": [
    "list(range(10,0,-1))"
   ]
  },
  {
   "cell_type": "code",
   "execution_count": 4,
   "id": "cc7bc79a-67d1-4076-9bce-c923c928c36a",
   "metadata": {},
   "outputs": [
    {
     "name": "stdout",
     "output_type": "stream",
     "text": [
      "m\n",
      "a\n",
      "n\n",
      "s\n",
      "i\n"
     ]
    }
   ],
   "source": [
    "for i in \"mansi\":\n",
    "    print(i)"
   ]
  },
  {
   "cell_type": "code",
   "execution_count": 7,
   "id": "ff0a8887-a962-4fa6-87c0-8cf5979c7f4e",
   "metadata": {},
   "outputs": [
    {
     "name": "stdout",
     "output_type": "stream",
     "text": [
      "14\n"
     ]
    }
   ],
   "source": [
    "num = 2345\n",
    "sum=0\n",
    "for i in str(num):\n",
    "    sum+=int(i)\n",
    "print(sum)    "
   ]
  },
  {
   "cell_type": "code",
   "execution_count": 28,
   "id": "5d1caa99-956d-44a1-9478-616b76b70990",
   "metadata": {},
   "outputs": [
    {
     "name": "stdout",
     "output_type": "stream",
     "text": [
      "second largest element:   23\n"
     ]
    },
    {
     "data": {
      "text/plain": [
       "[23, 4, 6, 7, 45, 3, 4, 6, 12]"
      ]
     },
     "execution_count": 28,
     "metadata": {},
     "output_type": "execute_result"
    }
   ],
   "source": [
    "list = [23,4,6,7,45,3,4,6,12]\n",
    "maximum = max(list)\n",
    "i = list.index(maximum)\n",
    "list.remove(maximum)\n",
    "secmax = max(list)\n",
    "print(\"second largest element:  \" , secmax)\n",
    "list.insert(i ,maximum)\n",
    "list"
   ]
  },
  {
   "cell_type": "code",
   "execution_count": 47,
   "id": "8bd1eaf0-7146-47c6-86fb-c55ee2c65695",
   "metadata": {},
   "outputs": [
    {
     "name": "stdout",
     "output_type": "stream",
     "text": [
      "index at which  23 appeares : [0]\n",
      "index at which  6 appeares : [2, 6]\n",
      "index at which  45 appeares : [3]\n",
      "index at which  4 appeares : [1, 3]\n"
     ]
    }
   ],
   "source": [
    "list = [23,4,6,7,45,3,4,6,12]\n",
    "k = 0\n",
    "for i in list:\n",
    "    l = []\n",
    "    for j in list:\n",
    "        if i == j:\n",
    "            l.append(list.index(j)+k)\n",
    "            list.remove(j)\n",
    "            k =+1\n",
    "    print(\"index at which \" , i ,\"appeares :\" ,l)\n",
    "    l.clear()\n",
    "    "
   ]
  },
  {
   "cell_type": "code",
   "execution_count": 61,
   "id": "4c47f02b-a37a-4272-b48a-746157c01cda",
   "metadata": {},
   "outputs": [
    {
     "name": "stdout",
     "output_type": "stream",
     "text": [
      "  23 appears at index : [0, 1, 2]\n",
      "  0 appears at index : [3]\n"
     ]
    }
   ],
   "source": [
    "list = [23,23,23,0]\n",
    "uni = []\n",
    "for i in list:\n",
    "    if i not in uni:\n",
    "        uni.append(i)\n",
    "ind = []        \n",
    "for i in uni:\n",
    "    for j in range(0 , len(list)):\n",
    "        if i == list[j]:\n",
    "          ind.append(j)\n",
    "    print(\" \",i ,\"appears at index :\",ind)\n",
    "    ind.clear()"
   ]
  },
  {
   "cell_type": "code",
   "execution_count": 69,
   "id": "93a39c5b-384b-4478-b1b1-076ee17386c2",
   "metadata": {},
   "outputs": [
    {
     "name": "stdin",
     "output_type": "stream",
     "text": [
      "enter number of rows 3\n"
     ]
    },
    {
     "name": "stdout",
     "output_type": "stream",
     "text": [
      "0 2 1 \n",
      "\n",
      "0 1 2 1 \n",
      "\n"
     ]
    }
   ],
   "source": [
    "num = int(input(\"enter number of rows\"))\n",
    "for i in range( 1 , num):\n",
    "  for j in range (0 , i):\n",
    "    print(j , end=\" \")\n",
    "  for k in range(  -1 , 0 , -1):\n",
    "    print(k , end= \" \")\n",
    "  print(\"\\n\")\n"
   ]
  },
  {
   "cell_type": "code",
   "execution_count": null,
   "id": "13cb5d3e-d394-4f4b-82d7-55bc41240da9",
   "metadata": {},
   "outputs": [],
   "source": []
  }
 ],
 "metadata": {
  "kernelspec": {
   "display_name": "Python [conda env:base] *",
   "language": "python",
   "name": "conda-base-py"
  },
  "language_info": {
   "codemirror_mode": {
    "name": "ipython",
    "version": 3
   },
   "file_extension": ".py",
   "mimetype": "text/x-python",
   "name": "python",
   "nbconvert_exporter": "python",
   "pygments_lexer": "ipython3",
   "version": "3.12.7"
  }
 },
 "nbformat": 4,
 "nbformat_minor": 5
}
