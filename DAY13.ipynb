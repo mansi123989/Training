{
 "cells": [
  {
   "cell_type": "markdown",
   "id": "a2ce4a56-5564-4c41-bd48-a986da331abc",
   "metadata": {},
   "source": [
    "**Linear regression**"
   ]
  },
  {
   "cell_type": "code",
   "execution_count": 5,
   "id": "f14f791f-4556-4486-9d4e-0dbcd62f28d4",
   "metadata": {},
   "outputs": [
    {
     "data": {
      "text/html": [
       "<div>\n",
       "<style scoped>\n",
       "    .dataframe tbody tr th:only-of-type {\n",
       "        vertical-align: middle;\n",
       "    }\n",
       "\n",
       "    .dataframe tbody tr th {\n",
       "        vertical-align: top;\n",
       "    }\n",
       "\n",
       "    .dataframe thead th {\n",
       "        text-align: right;\n",
       "    }\n",
       "</style>\n",
       "<table border=\"1\" class=\"dataframe\">\n",
       "  <thead>\n",
       "    <tr style=\"text-align: right;\">\n",
       "      <th></th>\n",
       "      <th>Student_ID</th>\n",
       "      <th>CGPA</th>\n",
       "      <th>IQ</th>\n",
       "      <th>Placement</th>\n",
       "    </tr>\n",
       "  </thead>\n",
       "  <tbody>\n",
       "    <tr>\n",
       "      <th>24</th>\n",
       "      <td>25</td>\n",
       "      <td>4.7</td>\n",
       "      <td>121</td>\n",
       "      <td>0</td>\n",
       "    </tr>\n",
       "    <tr>\n",
       "      <th>81</th>\n",
       "      <td>82</td>\n",
       "      <td>5.4</td>\n",
       "      <td>107</td>\n",
       "      <td>0</td>\n",
       "    </tr>\n",
       "    <tr>\n",
       "      <th>74</th>\n",
       "      <td>75</td>\n",
       "      <td>6.7</td>\n",
       "      <td>154</td>\n",
       "      <td>1</td>\n",
       "    </tr>\n",
       "  </tbody>\n",
       "</table>\n",
       "</div>"
      ],
      "text/plain": [
       "    Student_ID  CGPA   IQ  Placement\n",
       "24          25   4.7  121          0\n",
       "81          82   5.4  107          0\n",
       "74          75   6.7  154          1"
      ]
     },
     "execution_count": 5,
     "metadata": {},
     "output_type": "execute_result"
    }
   ],
   "source": [
    "import pandas as pd\n",
    "df = pd.read_csv('placement.csv')\n",
    "df.sample(3)"
   ]
  },
  {
   "cell_type": "markdown",
   "id": "44224bbe-fd5e-41fe-b7ef-4253edcb8503",
   "metadata": {},
   "source": [
    "**Train model to predict IQ value from CGPA**"
   ]
  },
  {
   "cell_type": "code",
   "execution_count": 6,
   "id": "892ba4bc-e15d-4a3f-9995-3f4b2473dfab",
   "metadata": {},
   "outputs": [
    {
     "data": {
      "text/plain": [
       "array([[124.98112631],\n",
       "       [125.66816974],\n",
       "       [125.40098619],\n",
       "       [124.90478815],\n",
       "       [125.89718422],\n",
       "       [124.71394275],\n",
       "       [125.17197171],\n",
       "       [124.67577368],\n",
       "       [125.66816974],\n",
       "       [125.63000066],\n",
       "       [124.79028091],\n",
       "       [125.63000066],\n",
       "       [125.24830987],\n",
       "       [125.01929539],\n",
       "       [125.7445079 ],\n",
       "       [125.7445079 ],\n",
       "       [125.09563355],\n",
       "       [125.78267698],\n",
       "       [125.7445079 ],\n",
       "       [125.28647895],\n",
       "       [125.70633882],\n",
       "       [125.51549343],\n",
       "       [125.24830987],\n",
       "       [125.36281711],\n",
       "       [125.09563355],\n",
       "       [125.63000066],\n",
       "       [126.3170441 ],\n",
       "       [124.48492828],\n",
       "       [125.59183158],\n",
       "       [126.24070594]])"
      ]
     },
     "execution_count": 6,
     "metadata": {},
     "output_type": "execute_result"
    }
   ],
   "source": [
    "\n",
    "from sklearn.model_selection import train_test_split\n",
    "from sklearn.linear_model import LinearRegression\n",
    "\n",
    "# Assuming df is already defined\n",
    "x = df.iloc[:, 1].values.reshape(-1, 1)\n",
    "y = df.iloc[:, 2].values.reshape(-1, 1)\n",
    "\n",
    "# Split the data\n",
    "x_train, x_test, y_train, y_test = train_test_split(x, y, test_size=0.3, random_state=3)\n",
    "\n",
    "# Create and fit the model\n",
    "ir = LinearRegression()\n",
    "ir.fit(x_train, y_train)\n",
    "\n",
    "# Make predictions\n",
    "y_pred = ir.predict(x_test)\n",
    "y_pred"
   ]
  },
  {
   "cell_type": "markdown",
   "id": "7a81019f-bc0b-4b99-8231-802939f2e0bd",
   "metadata": {},
   "source": [
    "**Plot graph between predicted data and actual data**"
   ]
  },
  {
   "cell_type": "code",
   "execution_count": 7,
   "id": "e2a1e077-136d-4b36-9dfa-522faf622b1d",
   "metadata": {},
   "outputs": [
    {
     "data": {
      "image/png": "[encoded data removed]",
      "text/plain": [
       "<Figure size 640x480 with 1 Axes>"
      ]
     },
     "metadata": {},
     "output_type": "display_data"
    }
   ],
   "source": [
    "import matplotlib.pyplot as plt\n",
    "plt.scatter( x = x_train , y = y_train)\n",
    "plt.plot(x_train, ir.predict(x_train.reshape(-1,1)) )\n",
    "plt.grid()"
   ]
  },
  {
   "cell_type": "code",
   "execution_count": 4,
   "id": "9dde000b-983c-4001-821b-2222a463cd9a",
   "metadata": {},
   "outputs": [],
   "source": [
    "import pandas as pd\n",
    "data = pd.read_csv(\"laptop_data.csv\")"
   ]
  },
  {
   "cell_type": "code",
   "execution_count": 5,
   "id": "ebe7f150-d967-40f7-8389-a0f880ec5f98",
   "metadata": {},
   "outputs": [],
   "source": [
    "data['SSD1'] = data['Memory'].apply(lambda screen:1 if 'SSD' in screen else 0 )"
   ]
  },
  {
   "cell_type": "code",
   "execution_count": 6,
   "id": "d453f88e-50ef-44d3-a10b-af254b147128",
   "metadata": {},
   "outputs": [],
   "source": [
    "data['HDD1']=data['Memory'].apply(lambda screen:1 if 'HDD' in screen else 0 )"
   ]
  },
  {
   "cell_type": "code",
   "execution_count": 7,
   "id": "f4b0f55b-5377-4e04-83ad-2ccfe23cbd61",
   "metadata": {},
   "outputs": [],
   "source": [
    "data['GB'] = data['Memory'].str.extract(r'([0-9]+)GB')"
   ]
  },
  {
   "cell_type": "code",
   "execution_count": 12,
   "id": "efb39acb-6c12-42a1-8e5e-67adda8c8e87",
   "metadata": {},
   "outputs": [],
   "source": [
    "data['GB'] = data['GB'].fillna(0)"
   ]
  },
  {
   "cell_type": "code",
   "execution_count": 13,
   "id": "399fbd63-772c-4604-bf4d-cd0e177891bc",
   "metadata": {},
   "outputs": [],
   "source": [
    "data['GB'] = data['GB'].astype(float)"
   ]
  },
  {
   "cell_type": "code",
   "execution_count": 14,
   "id": "55e4b249-ef99-4501-a39f-a4b3e5e5df4b",
   "metadata": {},
   "outputs": [],
   "source": [
    "data['GB'] = data['GB'].astype(int)"
   ]
  },
  {
   "cell_type": "code",
   "execution_count": 9,
   "id": "18556771-bfbe-4666-aa2c-f9b5aa8db943",
   "metadata": {},
   "outputs": [],
   "source": [
    "data['TB'] = data['Memory'].str.extract(r'([0-9]+.?0?)TB')"
   ]
  },
  {
   "cell_type": "code",
   "execution_count": 11,
   "id": "16f50d79-c255-42b6-84d0-69c843e9e1ab",
   "metadata": {},
   "outputs": [],
   "source": [
    "data['TB'] = data['TB'].fillna(0)"
   ]
  },
  {
   "cell_type": "code",
   "execution_count": 15,
   "id": "26168663-097e-4a10-acd3-c1fc6c482c79",
   "metadata": {},
   "outputs": [],
   "source": [
    "data['TB'] = data['TB'].astype('float')"
   ]
  },
  {
   "cell_type": "code",
   "execution_count": 16,
   "id": "e64a07ab-a633-4287-b34c-f91751d67123",
   "metadata": {},
   "outputs": [],
   "source": [
    "data['TB'] = data['TB'].astype('float')"
   ]
  },
  {
   "cell_type": "code",
   "execution_count": 17,
   "id": "088a878c-e1f5-4d62-8a88-ba04891ea298",
   "metadata": {},
   "outputs": [],
   "source": [
    "data['total'] = data['GB'] + data['TB']*1024"
   ]
  },
  {
   "cell_type": "code",
   "execution_count": null,
   "id": "d4c4b1ec-346c-49fa-9703-486ecaed4ac8",
   "metadata": {},
   "outputs": [],
   "source": []
  }
 ],
 "metadata": {
  "kernelspec": {
   "display_name": "Python [conda env:base] *",
   "language": "python",
   "name": "conda-base-py"
  },
  "language_info": {
   "codemirror_mode": {
    "name": "ipython",
    "version": 3
   },
   "file_extension": ".py",
   "mimetype": "text/x-python",
   "name": "python",
   "nbconvert_exporter": "python",
   "pygments_lexer": "ipython3",
   "version": "3.12.7"
  }
 },
 "nbformat": 4,
 "nbformat_minor": 5
}
