{
 "cells": [
  {
   "cell_type": "code",
   "execution_count": 21,
   "id": "96e39a64-a981-4dec-84e4-d8a93692b9e6",
   "metadata": {},
   "outputs": [],
   "source": [
    "import numpy as np\n",
    "import pandas as pd\n",
    "import matplotlib.pyplot as plt"
   ]
  },
  {
   "cell_type": "code",
   "execution_count": 22,
   "id": "531a3f75-6645-40e3-b33d-93de42be85ba",
   "metadata": {},
   "outputs": [],
   "source": [
    "data = pd.read_csv(\"laptop_data.csv\")"
   ]
  },
  {
   "cell_type": "markdown",
   "id": "37758160-cf95-45d2-ae9b-19435f816200",
   "metadata": {},
   "source": [
    "**find if there is IPS , Touchscreen ,Full HD in screen or not**"
   ]
  },
  {
   "cell_type": "code",
   "execution_count": 23,
   "id": "bdaacd96-2145-4ca1-a5a5-ccbba778d4a4",
   "metadata": {},
   "outputs": [],
   "source": [
    "data['screen'] = data['ScreenResolution'].apply(lambda screen:1 if 'IPS' in screen else 0 )"
   ]
  },
  {
   "cell_type": "code",
   "execution_count": 24,
   "id": "d603620e-fe97-4bbf-ad81-666d777f7d0f",
   "metadata": {},
   "outputs": [],
   "source": [
    "data['Touchscreen'] = data['ScreenResolution'].apply(lambda screen:1 if 'Touchscreen' in screen else 0 )"
   ]
  },
  {
   "cell_type": "code",
   "execution_count": 25,
   "id": "927d2484-c9fd-4c04-ad6b-881bb239ab77",
   "metadata": {},
   "outputs": [],
   "source": [
    "data['HD'] = data['ScreenResolution'].apply(lambda screen:1 if 'Full HD' in screen else 0 )"
   ]
  },
  {
   "cell_type": "code",
   "execution_count": 26,
   "id": "2c562e70-b7f3-4c32-9b40-c91a506c3c59",
   "metadata": {},
   "outputs": [
    {
     "data": {
      "text/plain": [
       "HD\n",
       "1    843\n",
       "0    460\n",
       "Name: count, dtype: int64"
      ]
     },
     "execution_count": 26,
     "metadata": {},
     "output_type": "execute_result"
    }
   ],
   "source": [
    "data['HD'].value_counts()"
   ]
  },
  {
   "cell_type": "markdown",
   "id": "36b67598-0cbd-4d36-8b75-beb02e54f1ae",
   "metadata": {},
   "source": [
    "**find there is intel processor or other**"
   ]
  },
  {
   "cell_type": "code",
   "execution_count": 27,
   "id": "164b912e-21ee-4e15-8c13-223a60b96237",
   "metadata": {},
   "outputs": [
    {
     "data": {
      "text/plain": [
       "'Intel Core i5'"
      ]
     },
     "execution_count": 27,
     "metadata": {},
     "output_type": "execute_result"
    }
   ],
   "source": [
    "\" \".join(data['Cpu'][0].split()[:3])"
   ]
  },
  {
   "cell_type": "code",
   "execution_count": 28,
   "id": "5f38e218-35f2-4a55-81de-ffeb914f7b09",
   "metadata": {},
   "outputs": [],
   "source": [
    "data['processor'] = data['Cpu'].apply(lambda x:\" \".join(x.split()[:3]))"
   ]
  },
  {
   "cell_type": "code",
   "execution_count": 29,
   "id": "b25ee22c-3e25-40b7-8602-0f431028a962",
   "metadata": {},
   "outputs": [],
   "source": [
    "def fun(processor):\n",
    "    if processor ==\"Intel Core i5\" or processor ==\"Intel Core i6\" or processor ==\"Intel Core i7\" or processor == \"Intel Core i3 \":\n",
    "        return processor\n",
    "    elif \"Intel\" in processor:\n",
    "        return \"Intel processor\"\n",
    "    else:\n",
    "        return \"AMD\""
   ]
  },
  {
   "cell_type": "code",
   "execution_count": 30,
   "id": "63069c2d-0c3a-455a-b072-717a1f00c1e1",
   "metadata": {},
   "outputs": [],
   "source": [
    "data['intel'] = data['processor'].apply(fun)"
   ]
  },
  {
   "cell_type": "markdown",
   "id": "20f11c75-e75e-4cfa-b6c9-bd0337435722",
   "metadata": {},
   "source": [
    "**extract SSD HDD from memory**"
   ]
  },
  {
   "cell_type": "code",
   "execution_count": 31,
   "id": "733a2148-307c-426c-9a81-44117886f9c9",
   "metadata": {},
   "outputs": [],
   "source": [
    "data['SSD'] = data['Memory'].str.extract(r'(\\w+) SSD$')\n"
   ]
  },
  {
   "cell_type": "code",
   "execution_count": 32,
   "id": "b49c162a-63c3-4c9e-a2b8-4f35be980ec7",
   "metadata": {},
   "outputs": [],
   "source": [
    "data['HDD'] = data['Memory'].str.extract(r'(\\w+) HDD$')"
   ]
  },
  {
   "cell_type": "code",
   "execution_count": 39,
   "id": "06dea684-8bc8-4ae8-a56a-32c1c346cece",
   "metadata": {},
   "outputs": [
    {
     "data": {
      "text/plain": [
       "727"
      ]
     },
     "execution_count": 39,
     "metadata": {},
     "output_type": "execute_result"
    }
   ],
   "source": [
    "data['HDD'].isnull().sum()"
   ]
  },
  {
   "cell_type": "code",
   "execution_count": 33,
   "id": "0702ca42-1f50-4c51-9255-167bb79d2898",
   "metadata": {},
   "outputs": [
    {
     "data": {
      "text/plain": [
       "SSD\n",
       "256GB    415\n",
       "512GB    119\n",
       "128GB     76\n",
       "1TB       14\n",
       "32GB       6\n",
       "180GB      5\n",
       "16GB       3\n",
       "64GB       1\n",
       "240GB      1\n",
       "8GB        1\n",
       "Name: count, dtype: int64"
      ]
     },
     "execution_count": 33,
     "metadata": {},
     "output_type": "execute_result"
    }
   ],
   "source": [
    "data['SSD'].value_counts()"
   ]
  },
  {
   "cell_type": "markdown",
   "id": "a67ee123-55a3-466e-8b56-35576c6fad66",
   "metadata": {},
   "source": [
    "**convert value in TB into GB**"
   ]
  },
  {
   "cell_type": "code",
   "execution_count": 34,
   "id": "11cb2760-caa3-42c0-8d07-ff9b90cf35bf",
   "metadata": {},
   "outputs": [],
   "source": [
    "import pandas as pd\n",
    "import numpy as np\n",
    "\n",
    "def TBtoGB(value):\n",
    "    try:\n",
    "        if pd.isnull(value):\n",
    "            return np.nan\n",
    "        value = str(value)\n",
    "        num = int(''.join(filter(str.isdigit, value)))\n",
    "        if \"TB\" in value.upper():\n",
    "            return num * 1000\n",
    "        else:\n",
    "            return num\n",
    "    except Exception as e:\n",
    "        print(f\"Error processing value {value}: {e}\")\n",
    "        return np.nan\n"
   ]
  },
  {
   "cell_type": "code",
   "execution_count": 35,
   "id": "e9f1221d-f39c-4504-92cb-9281909a314f",
   "metadata": {},
   "outputs": [],
   "source": [
    "data['HDD'] = data['HDD'].apply(TBtoGB)"
   ]
  },
  {
   "cell_type": "code",
   "execution_count": 36,
   "id": "443c65f3-8c98-49b2-b760-6a277f6855a0",
   "metadata": {},
   "outputs": [],
   "source": [
    "data['SSD'] = data['SSD'].apply(TBtoGB)"
   ]
  },
  {
   "cell_type": "code",
   "execution_count": 37,
   "id": "6ccaede6-c62d-40a4-a245-efed3ac1d79e",
   "metadata": {},
   "outputs": [
    {
     "data": {
      "text/plain": [
       "0          NaN\n",
       "1          NaN\n",
       "2          NaN\n",
       "3          NaN\n",
       "4          NaN\n",
       "         ...  \n",
       "1298       NaN\n",
       "1299       NaN\n",
       "1300       NaN\n",
       "1301    1000.0\n",
       "1302     500.0\n",
       "Name: HDD, Length: 1303, dtype: float64"
      ]
     },
     "execution_count": 37,
     "metadata": {},
     "output_type": "execute_result"
    }
   ],
   "source": [
    "data['HDD']"
   ]
  },
  {
   "cell_type": "code",
   "execution_count": 38,
   "id": "3f06576f-d965-4e3a-a907-cabe76369a91",
   "metadata": {},
   "outputs": [
    {
     "data": {
      "text/plain": [
       "0       128.0\n",
       "1         NaN\n",
       "2       256.0\n",
       "3       512.0\n",
       "4       256.0\n",
       "        ...  \n",
       "1298    128.0\n",
       "1299    512.0\n",
       "1300      NaN\n",
       "1301      NaN\n",
       "1302      NaN\n",
       "Name: SSD, Length: 1303, dtype: float64"
      ]
     },
     "execution_count": 38,
     "metadata": {},
     "output_type": "execute_result"
    }
   ],
   "source": [
    "data['SSD']"
   ]
  },
  {
   "cell_type": "code",
   "execution_count": null,
   "id": "a61019ef-947e-4ff1-bc48-6325766d5b61",
   "metadata": {},
   "outputs": [],
   "source": []
  }
 ],
 "metadata": {
  "kernelspec": {
   "display_name": "Python [conda env:base] *",
   "language": "python",
   "name": "conda-base-py"
  },
  "language_info": {
   "codemirror_mode": {
    "name": "ipython",
    "version": 3
   },
   "file_extension": ".py",
   "mimetype": "text/x-python",
   "name": "python",
   "nbconvert_exporter": "python",
   "pygments_lexer": "ipython3",
   "version": "3.12.7"
  }
 },
 "nbformat": 4,
 "nbformat_minor": 5
}
