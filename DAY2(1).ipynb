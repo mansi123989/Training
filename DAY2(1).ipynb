{
 "cells": [
  {
   "cell_type": "markdown",
   "id": "718a07a4-5186-4469-9ecf-c3d4166d85ac",
   "metadata": {},
   "source": [
    "**operator:**"
   ]
  },
  {
   "cell_type": "code",
   "execution_count": 22,
   "id": "8df62a9d-feff-4706-91d9-aadbe72eacfd",
   "metadata": {},
   "outputs": [
    {
     "name": "stdout",
     "output_type": "stream",
     "text": [
      "7\n",
      "-1\n",
      "12\n",
      "0.75\n",
      "0\n",
      "81\n",
      "3\n",
      "False\n",
      "True\n",
      "False\n",
      "False\n",
      "True\n",
      "True\n",
      "False\n",
      "False\n",
      "False\n",
      "False\n",
      "True\n"
     ]
    }
   ],
   "source": [
    "num1,num2 = 3 ,4\n",
    "str1,str2 = \"Hi\",\"hello\"\n",
    "#airthmetic operator\n",
    "print(num1+num2)\n",
    "print(num1-num2)\n",
    "print(num1*num2)\n",
    "print(num1/num2)\n",
    "print(num1//num2) #give only integer part of result\n",
    "print(num1**num2)#for exponentitation\n",
    "print(num1%num2)#give reminder of division \n",
    "\n",
    "#comparision operator \n",
    "print(num1>num2)\n",
    "print(num1<num2)\n",
    "print(num1==num2)\n",
    "print(num1>=num2)\n",
    "print(num1<=num2)\n",
    "print(num1!=num2)\n",
    "\n",
    "#logical operator\n",
    "print(num1>5 & num2>5 )\n",
    "print(num1>5 | num2>5 )\n",
    "\n",
    "#assingment operator\n",
    "num1 +=1 \n",
    "num2-=2\n",
    "\n",
    "#identity operaotor\n",
    "print(str1 is str2)\n",
    "print(num1 is not num2)\n",
    "\n",
    "#memborship operator\n",
    "if 'i' in str1:\n",
    "    print(True)\n",
    "if 'i' in str2:\n",
    "    print(True)   "
   ]
  },
  {
   "cell_type": "markdown",
   "id": "df30e547-bc2e-4d8f-899a-010b794fa261",
   "metadata": {},
   "source": [
    "**sum of digits in number**"
   ]
  },
  {
   "cell_type": "code",
   "execution_count": 6,
   "id": "7bd2bded-5a62-4a55-97a6-7a4131230527",
   "metadata": {},
   "outputs": [
    {
     "name": "stdout",
     "output_type": "stream",
     "text": [
      " =  11\n"
     ]
    }
   ],
   "source": [
    "\n",
    "n = 1334\n",
    "sum = 0\n",
    "while n >0:\n",
    "  a = n % 10\n",
    "  n = n // 10\n",
    "  sum = sum + a\n",
    "print(' = ',sum)"
   ]
  },
  {
   "cell_type": "markdown",
   "id": "2b0fe850-8c7b-471f-9c23-260ef22130cd",
   "metadata": {},
   "source": [
    "**Greater of two numbers**"
   ]
  },
  {
   "cell_type": "code",
   "execution_count": 7,
   "id": "021c25c5-fc3b-40bb-813a-36a734f00dea",
   "metadata": {},
   "outputs": [
    {
     "name": "stdout",
     "output_type": "stream",
     "text": [
      "10 a is greater \n"
     ]
    }
   ],
   "source": [
    "a = 10\n",
    "b = 3\n",
    "if a > b:\n",
    " print( a ,\"a is greater \")\n",
    "else: \n",
    " print(b , \"b is greater \")"
   ]
  },
  {
   "cell_type": "markdown",
   "id": "76f706df-d3ce-473c-8098-06e94a5489b4",
   "metadata": {},
   "source": [
    "**greater of three number**"
   ]
  },
  {
   "cell_type": "code",
   "execution_count": 8,
   "id": "df5ce83f-ea33-427d-af15-c9b1d629a88f",
   "metadata": {},
   "outputs": [
    {
     "name": "stdout",
     "output_type": "stream",
     "text": [
      "10 a is greater \n"
     ]
    }
   ],
   "source": [
    "a = 10\n",
    "b = 3\n",
    "c = 5\n",
    "if (a > b) & (a > c):\n",
    " print( a ,\"a is greater \")\n",
    "elif b > c : \n",
    " print(b , \"b is greater \")\n",
    "else :\n",
    " print(c,\"c is greatest\")"
   ]
  },
  {
   "cell_type": "markdown",
   "id": "bdb63b6c-0224-40a7-a154-6e22e1a15767",
   "metadata": {},
   "source": [
    "**find traingle is valid or not**"
   ]
  },
  {
   "cell_type": "code",
   "execution_count": 4,
   "id": "94aac674-539a-443f-b47e-e9603ea50694",
   "metadata": {},
   "outputs": [
    {
     "name": "stdin",
     "output_type": "stream",
     "text": [
      "write angle of traingle 50\n",
      "write angle of traingle 56\n",
      "write angle of traingle 56\n"
     ]
    },
    {
     "name": "stdout",
     "output_type": "stream",
     "text": [
      "traingle can not be formed\n"
     ]
    }
   ],
   "source": [
    "\n",
    "a = int(input(\"write angle of traingle\"))\n",
    "b = int(input(\"write angle of traingle\"))\n",
    "c = int(input(\"write angle of traingle\"))\n",
    "if a+b+c == 180 :\n",
    "  print(\"traingle can be formed\")\n",
    "else:\n",
    "  print(\"traingle can not be formed\")\n",
    " "
   ]
  },
  {
   "cell_type": "markdown",
   "id": "cdeee4f5-8b33-44b6-b3ed-17890bf94f95",
   "metadata": {},
   "source": [
    "**find given number is armstrong or not**"
   ]
  },
  {
   "cell_type": "code",
   "execution_count": 5,
   "id": "02bfa73d-c386-46d6-8ba7-1abe596a3ee1",
   "metadata": {},
   "outputs": [
    {
     "name": "stdin",
     "output_type": "stream",
     "text": [
      "Enter a number:  1\n"
     ]
    },
    {
     "name": "stdout",
     "output_type": "stream",
     "text": [
      "1 is an Armstrong number.\n"
     ]
    }
   ],
   "source": [
    "num = int(input(\"Enter a number: \"))\n",
    "power = len(str(num))  \n",
    "\n",
    "sum_of_powers = 0\n",
    "temp = num\n",
    "\n",
    "while temp > 0:\n",
    "    digit = temp % 10\n",
    "    sum_of_powers += digit ** power\n",
    "    temp = temp // 10\n",
    "\n",
    "if num == sum_of_powers:\n",
    "    print(num, \"is an Armstrong number.\")\n",
    "else:\n",
    "    print(num, \"is not an Armstrong number.\")\n"
   ]
  },
  {
   "cell_type": "markdown",
   "id": "58e9afec-d11c-4125-b080-447582b144fd",
   "metadata": {},
   "source": [
    "**find losss or profit**"
   ]
  },
  {
   "cell_type": "code",
   "execution_count": null,
   "id": "362b2b53-aca4-446d-b4af-9b86cdb0da88",
   "metadata": {},
   "outputs": [],
   "source": [
    "cost = int(input(\"Enter cost price: \"))\n",
    "sell = int(input(\"Enter selling price: \"))\n",
    "\n",
    "if cost > sell:\n",
    "    loss = cost - sell\n",
    "    lossP = (loss / cost) * 100\n",
    "    print(\"Loss:\", loss)\n",
    "    print(\"Loss Percentage:\", round(lossP, 2), \"%\")\n",
    "elif sell > cost:\n",
    "    profit = sell - cost\n",
    "    profitP = (profit / cost) * 100\n",
    "    print(\"Profit:\", profit)\n",
    "    print(\"Profit Percentage:\", round(profitP, 2), \"%\")\n",
    "else:\n",
    "    print(\"No profit, no loss.\")\n",
    "    \n"
   ]
  }
 ],
 "metadata": {
  "kernelspec": {
   "display_name": "Python [conda env:base] *",
   "language": "python",
   "name": "conda-base-py"
  },
  "language_info": {
   "codemirror_mode": {
    "name": "ipython",
    "version": 3
   },
   "file_extension": ".py",
   "mimetype": "text/x-python",
   "name": "python",
   "nbconvert_exporter": "python",
   "pygments_lexer": "ipython3",
   "version": "3.12.7"
  }
 },
 "nbformat": 4,
 "nbformat_minor": 5
}
