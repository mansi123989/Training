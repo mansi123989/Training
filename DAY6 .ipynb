{
 "cells": [
  {
   "cell_type": "code",
   "execution_count": 21,
   "id": "2a749558-17fd-48e5-b2d1-fc11054a3b91",
   "metadata": {},
   "outputs": [
    {
     "data": {
      "text/html": [
       "<div>\n",
       "<style scoped>\n",
       "    .dataframe tbody tr th:only-of-type {\n",
       "        vertical-align: middle;\n",
       "    }\n",
       "\n",
       "    .dataframe tbody tr th {\n",
       "        vertical-align: top;\n",
       "    }\n",
       "\n",
       "    .dataframe thead th {\n",
       "        text-align: right;\n",
       "    }\n",
       "</style>\n",
       "<table border=\"1\" class=\"dataframe\">\n",
       "  <thead>\n",
       "    <tr style=\"text-align: right;\">\n",
       "      <th></th>\n",
       "      <th>id</th>\n",
       "      <th>season</th>\n",
       "      <th>city</th>\n",
       "      <th>date</th>\n",
       "      <th>match_type</th>\n",
       "      <th>player_of_match</th>\n",
       "      <th>venue</th>\n",
       "      <th>team1</th>\n",
       "      <th>team2</th>\n",
       "      <th>toss_winner</th>\n",
       "      <th>toss_decision</th>\n",
       "      <th>winner</th>\n",
       "      <th>result</th>\n",
       "      <th>result_margin</th>\n",
       "      <th>target_runs</th>\n",
       "      <th>target_overs</th>\n",
       "      <th>super_over</th>\n",
       "      <th>method</th>\n",
       "      <th>umpire1</th>\n",
       "      <th>umpire2</th>\n",
       "    </tr>\n",
       "  </thead>\n",
       "  <tbody>\n",
       "    <tr>\n",
       "      <th>648</th>\n",
       "      <td>1136573</td>\n",
       "      <td>2018</td>\n",
       "      <td>Kolkata</td>\n",
       "      <td>2018-04-16</td>\n",
       "      <td>League</td>\n",
       "      <td>N Rana</td>\n",
       "      <td>Eden Gardens</td>\n",
       "      <td>Kolkata Knight Riders</td>\n",
       "      <td>Delhi Daredevils</td>\n",
       "      <td>Delhi Daredevils</td>\n",
       "      <td>field</td>\n",
       "      <td>Kolkata Knight Riders</td>\n",
       "      <td>runs</td>\n",
       "      <td>71.0</td>\n",
       "      <td>201.0</td>\n",
       "      <td>20.0</td>\n",
       "      <td>N</td>\n",
       "      <td>NaN</td>\n",
       "      <td>AK Chaudhary</td>\n",
       "      <td>A Nand Kishore</td>\n",
       "    </tr>\n",
       "    <tr>\n",
       "      <th>365</th>\n",
       "      <td>598040</td>\n",
       "      <td>2013</td>\n",
       "      <td>Raipur</td>\n",
       "      <td>2013-05-01</td>\n",
       "      <td>League</td>\n",
       "      <td>DA Warner</td>\n",
       "      <td>Shaheed Veer Narayan Singh International Stadium</td>\n",
       "      <td>Delhi Daredevils</td>\n",
       "      <td>Kolkata Knight Riders</td>\n",
       "      <td>Kolkata Knight Riders</td>\n",
       "      <td>bat</td>\n",
       "      <td>Delhi Daredevils</td>\n",
       "      <td>wickets</td>\n",
       "      <td>7.0</td>\n",
       "      <td>137.0</td>\n",
       "      <td>20.0</td>\n",
       "      <td>N</td>\n",
       "      <td>NaN</td>\n",
       "      <td>HDPK Dharmasena</td>\n",
       "      <td>CK Nandan</td>\n",
       "    </tr>\n",
       "    <tr>\n",
       "      <th>680</th>\n",
       "      <td>1136605</td>\n",
       "      <td>2018</td>\n",
       "      <td>Delhi</td>\n",
       "      <td>2018-05-12</td>\n",
       "      <td>League</td>\n",
       "      <td>AB de Villiers</td>\n",
       "      <td>Arun Jaitley Stadium</td>\n",
       "      <td>Delhi Daredevils</td>\n",
       "      <td>Royal Challengers Bangalore</td>\n",
       "      <td>Royal Challengers Bangalore</td>\n",
       "      <td>field</td>\n",
       "      <td>Royal Challengers Bangalore</td>\n",
       "      <td>wickets</td>\n",
       "      <td>5.0</td>\n",
       "      <td>182.0</td>\n",
       "      <td>20.0</td>\n",
       "      <td>N</td>\n",
       "      <td>NaN</td>\n",
       "      <td>KN Ananthapadmanabhan</td>\n",
       "      <td>HDPK Dharmasena</td>\n",
       "    </tr>\n",
       "  </tbody>\n",
       "</table>\n",
       "</div>"
      ],
      "text/plain": [
       "          id season     city        date match_type player_of_match  \\\n",
       "648  1136573   2018  Kolkata  2018-04-16     League          N Rana   \n",
       "365   598040   2013   Raipur  2013-05-01     League       DA Warner   \n",
       "680  1136605   2018    Delhi  2018-05-12     League  AB de Villiers   \n",
       "\n",
       "                                                venue                  team1  \\\n",
       "648                                      Eden Gardens  Kolkata Knight Riders   \n",
       "365  Shaheed Veer Narayan Singh International Stadium       Delhi Daredevils   \n",
       "680                              Arun Jaitley Stadium       Delhi Daredevils   \n",
       "\n",
       "                           team2                  toss_winner toss_decision  \\\n",
       "648             Delhi Daredevils             Delhi Daredevils         field   \n",
       "365        Kolkata Knight Riders        Kolkata Knight Riders           bat   \n",
       "680  Royal Challengers Bangalore  Royal Challengers Bangalore         field   \n",
       "\n",
       "                          winner   result  result_margin  target_runs  \\\n",
       "648        Kolkata Knight Riders     runs           71.0        201.0   \n",
       "365             Delhi Daredevils  wickets            7.0        137.0   \n",
       "680  Royal Challengers Bangalore  wickets            5.0        182.0   \n",
       "\n",
       "     target_overs super_over method                umpire1          umpire2  \n",
       "648          20.0          N    NaN           AK Chaudhary   A Nand Kishore  \n",
       "365          20.0          N    NaN        HDPK Dharmasena        CK Nandan  \n",
       "680          20.0          N    NaN  KN Ananthapadmanabhan  HDPK Dharmasena  "
      ]
     },
     "execution_count": 21,
     "metadata": {},
     "output_type": "execute_result"
    }
   ],
   "source": [
    "import pandas as pd\n",
    "df = pd.read_csv(\"matches.csv\")\n",
    "df.sample(3)"
   ]
  },
  {
   "cell_type": "markdown",
   "id": "199e0617-37f0-463a-91ee-caa59370b3a1",
   "metadata": {},
   "source": [
    "**no of unique element in team1**"
   ]
  },
  {
   "cell_type": "code",
   "execution_count": 22,
   "id": "04899e90-d977-4da6-84a2-3d3e3badba6c",
   "metadata": {},
   "outputs": [
    {
     "data": {
      "text/plain": [
       "19"
      ]
     },
     "execution_count": 22,
     "metadata": {},
     "output_type": "execute_result"
    }
   ],
   "source": [
    "df['team1'].nunique()"
   ]
  },
  {
   "cell_type": "markdown",
   "id": "f50f9f91-9115-4fb7-b027-937eac561eab",
   "metadata": {},
   "source": [
    "**Groupby**"
   ]
  },
  {
   "cell_type": "code",
   "execution_count": 23,
   "id": "75fdb769-7468-4956-aeb3-021ff6e32ba0",
   "metadata": {},
   "outputs": [
    {
     "data": {
      "text/plain": [
       "Sex     Survived\n",
       "female  1           233\n",
       "        0            81\n",
       "male    0           468\n",
       "        1           109\n",
       "Name: count, dtype: int64"
      ]
     },
     "execution_count": 23,
     "metadata": {},
     "output_type": "execute_result"
    }
   ],
   "source": [
    "data = pd.read_csv(\"Titanic-Dataset.csv\")\n",
    "data[['Sex' , 'Survived']].groupby('Sex').value_counts()"
   ]
  },
  {
   "cell_type": "markdown",
   "id": "6904fb25-7d01-4ae8-884b-0bdf220b222f",
   "metadata": {},
   "source": [
    "**Skew values**"
   ]
  },
  {
   "cell_type": "code",
   "execution_count": 24,
   "id": "90fa9612-5d0b-496e-a8aa-33c86521e4b0",
   "metadata": {},
   "outputs": [
    {
     "data": {
      "text/plain": [
       "PassengerId    0.000000\n",
       "Survived       0.478523\n",
       "Pclass        -0.630548\n",
       "Age            0.389108\n",
       "SibSp          3.695352\n",
       "Parch          2.749117\n",
       "Fare           4.787317\n",
       "dtype: float64"
      ]
     },
     "execution_count": 24,
     "metadata": {},
     "output_type": "execute_result"
    }
   ],
   "source": [
    "skew_values = data.skew(numeric_only = True)\n",
    "skew_values "
   ]
  },
  {
   "cell_type": "markdown",
   "id": "74b75b48-a06e-4d7d-b7a3-df6fb877f064",
   "metadata": {},
   "source": [
    "**Subplot**"
   ]
  },
  {
   "cell_type": "code",
   "execution_count": 34,
   "id": "aa32b4d2-fb72-4afc-9c4f-c41dc758cbce",
   "metadata": {},
   "outputs": [
    {
     "data": {
      "image/png": "[encoded data removed]",
      "text/plain": [
       "<Figure size 1000x400 with 3 Axes>"
      ]
     },
     "metadata": {},
     "output_type": "display_data"
    }
   ],
   "source": [
    "import pandas as pd\n",
    "import matplotlib.pyplot as plt\n",
    "\n",
    "\n",
    "\n",
    "plt.figure(figsize=(10, 4))\n",
    "\n",
    "# First subplot\n",
    "plt.subplot(2, 2, 1)\n",
    "plt.hist(data['Fare'], bins=30)\n",
    "plt.xlim(0,300)\n",
    "plt.title('Fare Distribution')\n",
    "\n",
    "# Second subplot\n",
    "plt.subplot(2, 2, 2)\n",
    "plt.hist(data['Age'].dropna(), bins=30)\n",
    "plt.title('Age Distribution')\n",
    "\n",
    "plt.subplot(2, 2, 3)\n",
    "plt.tight_layout()\n",
    "plt.show()\n"
   ]
  },
  {
   "cell_type": "markdown",
   "id": "f1e28aa8-f766-4ae2-956b-39525c843928",
   "metadata": {},
   "source": [
    "**where(condition , if , else)**"
   ]
  },
  {
   "cell_type": "code",
   "execution_count": 36,
   "id": "1a2fc797-f6f3-4fc4-918e-214d9c89e494",
   "metadata": {},
   "outputs": [
    {
     "data": {
      "text/plain": [
       "array([ 1,  2,  3,  4,  5, -6, -7, -8, -9])"
      ]
     },
     "execution_count": 36,
     "metadata": {},
     "output_type": "execute_result"
    }
   ],
   "source": [
    "import numpy as np\n",
    "arr = np.array(range(1,10))\n",
    "np.where(arr>5 , -arr , arr)"
   ]
  },
  {
   "cell_type": "markdown",
   "id": "c4e2eeef-bddf-4337-a9b1-f6fea150a57b",
   "metadata": {},
   "source": [
    "**find which team has highest margin in term of run**"
   ]
  },
  {
   "cell_type": "code",
   "execution_count": 37,
   "id": "f57c3f3c-c583-42e4-b549-e06e8355570b",
   "metadata": {},
   "outputs": [
    {
     "data": {
      "text/html": [
       "<div>\n",
       "<style scoped>\n",
       "    .dataframe tbody tr th:only-of-type {\n",
       "        vertical-align: middle;\n",
       "    }\n",
       "\n",
       "    .dataframe tbody tr th {\n",
       "        vertical-align: top;\n",
       "    }\n",
       "\n",
       "    .dataframe thead th {\n",
       "        text-align: right;\n",
       "    }\n",
       "</style>\n",
       "<table border=\"1\" class=\"dataframe\">\n",
       "  <thead>\n",
       "    <tr style=\"text-align: right;\">\n",
       "      <th></th>\n",
       "      <th>result_margin</th>\n",
       "      <th>winner</th>\n",
       "    </tr>\n",
       "    <tr>\n",
       "      <th>result</th>\n",
       "      <th></th>\n",
       "      <th></th>\n",
       "    </tr>\n",
       "  </thead>\n",
       "  <tbody>\n",
       "    <tr>\n",
       "      <th>no result</th>\n",
       "      <td>NaN</td>\n",
       "      <td>NaN</td>\n",
       "    </tr>\n",
       "    <tr>\n",
       "      <th>runs</th>\n",
       "      <td>146.0</td>\n",
       "      <td>Sunrisers Hyderabad</td>\n",
       "    </tr>\n",
       "    <tr>\n",
       "      <th>tie</th>\n",
       "      <td>NaN</td>\n",
       "      <td>Sunrisers Hyderabad</td>\n",
       "    </tr>\n",
       "    <tr>\n",
       "      <th>wickets</th>\n",
       "      <td>10.0</td>\n",
       "      <td>Sunrisers Hyderabad</td>\n",
       "    </tr>\n",
       "  </tbody>\n",
       "</table>\n",
       "</div>"
      ],
      "text/plain": [
       "           result_margin               winner\n",
       "result                                       \n",
       "no result            NaN                  NaN\n",
       "runs               146.0  Sunrisers Hyderabad\n",
       "tie                  NaN  Sunrisers Hyderabad\n",
       "wickets             10.0  Sunrisers Hyderabad"
      ]
     },
     "execution_count": 37,
     "metadata": {},
     "output_type": "execute_result"
    }
   ],
   "source": [
    "d = df[['result' ,'result_margin','winner']]\n",
    "d.groupby('result').max()"
   ]
  },
  {
   "cell_type": "markdown",
   "id": "26657062-9866-4218-90ba-077b507f9d43",
   "metadata": {},
   "source": [
    "**which umpire officiate most matches**"
   ]
  },
  {
   "cell_type": "code",
   "execution_count": 38,
   "id": "4ed907ed-aa12-4fa4-9054-14c99a765583",
   "metadata": {},
   "outputs": [
    {
     "data": {
      "text/plain": [
       "Subroto Das          1\n",
       "SD Ranade            2\n",
       "AG Wharf             2\n",
       "K Bharatan           3\n",
       "TH Wijewardene       5\n",
       "                  ... \n",
       "C Shamshuddin       88\n",
       "HDPK Dharmasena     98\n",
       "Nitin Menon        104\n",
       "AK Chaudhary       131\n",
       "S Ravi             131\n",
       "Name: count, Length: 70, dtype: int64"
      ]
     },
     "execution_count": 38,
     "metadata": {},
     "output_type": "execute_result"
    }
   ],
   "source": [
    "data1 = pd.concat([df['umpire1'],df['umpire2']])\n",
    "data1\n",
    "data1.value_counts().sort_values()"
   ]
  },
  {
   "cell_type": "code",
   "execution_count": 39,
   "id": "6a66e529-828f-46c8-b97f-cc5589a3facd",
   "metadata": {},
   "outputs": [
    {
     "data": {
      "text/plain": [
       "131"
      ]
     },
     "execution_count": 39,
     "metadata": {},
     "output_type": "execute_result"
    }
   ],
   "source": [
    "data1.value_counts().max()"
   ]
  },
  {
   "cell_type": "markdown",
   "id": "c0c2f403-d37a-4477-950c-512e9cb1a026",
   "metadata": {},
   "source": [
    "**which team has best toss to win convertion rate**"
   ]
  },
  {
   "cell_type": "code",
   "execution_count": 40,
   "id": "69eafa7b-7d95-4ed4-8989-468e1b9408a9",
   "metadata": {},
   "outputs": [
    {
     "data": {
      "text/plain": [
       "winner                       toss_winner                \n",
       "Rising Pune Supergiants      Rising Pune Supergiants         3\n",
       "Pune Warriors                Pune Warriors                   3\n",
       "Kochi Tuskers Kerala         Kochi Tuskers Kerala            4\n",
       "Royal Challengers Bengaluru  Royal Challengers Bengaluru     4\n",
       "Rising Pune Supergiant       Rising Pune Supergiant          5\n",
       "Punjab Kings                 Punjab Kings                    9\n",
       "Lucknow Super Giants         Lucknow Super Giants           10\n",
       "Gujarat Lions                Gujarat Lions                  10\n",
       "Gujarat Titans               Gujarat Titans                 14\n",
       "Deccan Chargers              Deccan Chargers                19\n",
       "Delhi Capitals               Delhi Capitals                 26\n",
       "Delhi Daredevils             Delhi Daredevils               35\n",
       "Kings XI Punjab              Kings XI Punjab                36\n",
       "Sunrisers Hyderabad          Sunrisers Hyderabad            38\n",
       "Royal Challengers Bangalore  Royal Challengers Bangalore    57\n",
       "Rajasthan Royals             Rajasthan Royals               60\n",
       "Kolkata Knight Riders        Kolkata Knight Riders          68\n",
       "Chennai Super Kings          Chennai Super Kings            75\n",
       "Mumbai Indians               Mumbai Indians                 78\n",
       "Name: count, dtype: int64"
      ]
     },
     "execution_count": 40,
     "metadata": {},
     "output_type": "execute_result"
    }
   ],
   "source": [
    "data2 =  df[df['toss_winner'] == df['winner']]\n",
    "data2[['toss_winner','winner']].groupby('winner').value_counts().sort_values()"
   ]
  },
  {
   "cell_type": "markdown",
   "id": "2502bf3b-662f-418e-bb44-b92e5e7ee1ab",
   "metadata": {},
   "source": [
    "**plot toss decision**"
   ]
  },
  {
   "cell_type": "code",
   "execution_count": 41,
   "id": "d2a1db23-bc63-471b-b5ed-6c009cb6d9e7",
   "metadata": {},
   "outputs": [],
   "source": [
    "value =  df.groupby(df['toss_decision'])['toss_decision'].count()\n",
    "key = df['toss_decision'].unique()"
   ]
  },
  {
   "cell_type": "code",
   "execution_count": 42,
   "id": "da219945-a409-4e9e-b285-97def16f4176",
   "metadata": {},
   "outputs": [
    {
     "ename": "SyntaxError",
     "evalue": "unterminated string literal (detected at line 2) (2327155634.py, line 2)",
     "output_type": "error",
     "traceback": [
      "\u001b[1;36m  Cell \u001b[1;32mIn[42], line 2\u001b[1;36m\u001b[0m\n\u001b[1;33m    plt.title('\u001b[0m\n\u001b[1;37m              ^\u001b[0m\n\u001b[1;31mSyntaxError\u001b[0m\u001b[1;31m:\u001b[0m unterminated string literal (detected at line 2)\n"
     ]
    }
   ],
   "source": [
    "import matplotlib.pyplot as plt\n",
    "plt.title('toss decision')\n",
    "plt.bar([ 'bat', 'feild'], value)"
   ]
  },
  {
   "cell_type": "code",
   "execution_count": null,
   "id": "b91b3580-409c-46ab-bbe9-fae27ac3fe75",
   "metadata": {},
   "outputs": [],
   "source": []
  },
  {
   "cell_type": "code",
   "execution_count": null,
   "id": "0f69049c-c06a-4732-9d9f-8f70e6592af2",
   "metadata": {},
   "outputs": [],
   "source": []
  }
 ],
 "metadata": {
  "kernelspec": {
   "display_name": "Python [conda env:base] *",
   "language": "python",
   "name": "conda-base-py"
  },
  "language_info": {
   "codemirror_mode": {
    "name": "ipython",
    "version": 3
   },
   "file_extension": ".py",
   "mimetype": "text/x-python",
   "name": "python",
   "nbconvert_exporter": "python",
   "pygments_lexer": "ipython3",
   "version": "3.12.7"
  }
 },
 "nbformat": 4,
 "nbformat_minor": 5
}
